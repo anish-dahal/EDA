{
 "cells": [
  {
   "cell_type": "code",
   "execution_count": 11,
   "metadata": {},
   "outputs": [],
   "source": [
    "import numpy as np\n",
    "from sklearn.metrics import confusion_matrix, classification_report, roc_auc_score\n"
   ]
  },
  {
   "cell_type": "code",
   "execution_count": 12,
   "metadata": {},
   "outputs": [],
   "source": [
    "np.random.seed(92)\n",
    "X = np.random.rand(1000, 5)\n",
    "y = np.random.randint(0, 4, (1000,))\n"
   ]
  },
  {
   "cell_type": "code",
   "execution_count": 13,
   "metadata": {},
   "outputs": [
    {
     "data": {
      "text/plain": [
       "array([[8.85880499e-01, 7.88581567e-01, 4.24728131e-01, 4.78869647e-01,\n",
       "        3.54059732e-04],\n",
       "       [8.56367046e-01, 3.53321693e-01, 4.86749046e-01, 4.41273106e-01,\n",
       "        9.38580545e-01],\n",
       "       [7.17678886e-01, 8.40349164e-01, 2.91518388e-01, 8.35235422e-01,\n",
       "        4.47437072e-01],\n",
       "       ...,\n",
       "       [4.18250104e-01, 7.83031393e-01, 8.64554951e-01, 7.33251456e-01,\n",
       "        5.15615784e-01],\n",
       "       [3.26716309e-01, 3.10483811e-01, 4.78642742e-01, 1.07416484e-01,\n",
       "        2.09666499e-01],\n",
       "       [2.73479211e-01, 8.52125502e-03, 5.16691941e-01, 2.05249910e-02,\n",
       "        1.66055148e-01]])"
      ]
     },
     "execution_count": 13,
     "metadata": {},
     "output_type": "execute_result"
    }
   ],
   "source": [
    "X\n"
   ]
  },
  {
   "cell_type": "code",
   "execution_count": 14,
   "metadata": {},
   "outputs": [
    {
     "data": {
      "text/plain": [
       "array([2, 3, 0, 1, 1, 0, 1, 3, 3, 0, 2, 1, 2, 1, 2, 3, 0, 1, 2, 3, 1, 0,\n",
       "       0, 2, 1, 1, 1, 3, 0, 0, 3, 0, 0, 0, 0, 1, 0, 2, 3, 3, 1, 0, 2, 2,\n",
       "       3, 0, 2, 0, 2, 2, 1, 3, 0, 0, 1, 2, 1, 0, 3, 1, 0, 3, 0, 1, 3, 0,\n",
       "       2, 3, 2, 2, 3, 0, 3, 3, 3, 0, 2, 1, 2, 1, 1, 0, 1, 1, 3, 1, 3, 2,\n",
       "       2, 3, 0, 0, 2, 1, 3, 3, 3, 0, 0, 2, 0, 1, 3, 0, 1, 2, 0, 2, 0, 0,\n",
       "       0, 2, 1, 2, 2, 1, 3, 2, 3, 0, 3, 1, 2, 2, 3, 2, 2, 3, 2, 2, 0, 0,\n",
       "       3, 0, 0, 0, 0, 3, 1, 2, 0, 1, 3, 2, 0, 1, 3, 1, 1, 3, 2, 2, 1, 2,\n",
       "       2, 1, 1, 2, 3, 0, 0, 1, 1, 2, 0, 1, 3, 3, 2, 1, 2, 0, 0, 1, 0, 1,\n",
       "       0, 2, 0, 0, 2, 1, 3, 2, 1, 3, 3, 2, 3, 1, 0, 2, 2, 0, 2, 3, 3, 0,\n",
       "       3, 2, 3, 1, 2, 3, 1, 2, 3, 1, 2, 1, 1, 3, 1, 0, 0, 3, 0, 3, 2, 3,\n",
       "       0, 0, 0, 1, 2, 0, 0, 0, 0, 3, 3, 2, 3, 3, 2, 0, 1, 0, 2, 2, 0, 3,\n",
       "       2, 3, 0, 3, 1, 1, 0, 2, 3, 2, 2, 2, 2, 1, 0, 0, 2, 2, 3, 1, 2, 3,\n",
       "       2, 2, 2, 1, 1, 3, 0, 2, 3, 2, 0, 3, 0, 1, 0, 2, 2, 0, 1, 0, 0, 1,\n",
       "       0, 3, 2, 0, 1, 2, 0, 2, 1, 0, 3, 3, 2, 1, 1, 1, 3, 1, 3, 1, 3, 2,\n",
       "       3, 2, 1, 0, 3, 3, 1, 3, 0, 3, 2, 2, 1, 0, 3, 2, 3, 1, 0, 0, 2, 2,\n",
       "       3, 3, 3, 0, 1, 0, 1, 2, 3, 1, 3, 3, 3, 0, 0, 2, 0, 0, 0, 3, 0, 2,\n",
       "       2, 1, 3, 0, 0, 2, 0, 0, 3, 3, 2, 2, 1, 1, 1, 3, 0, 3, 1, 2, 1, 3,\n",
       "       0, 2, 3, 1, 1, 2, 3, 3, 2, 1, 3, 1, 2, 2, 1, 1, 2, 3, 0, 2, 1, 3,\n",
       "       0, 0, 1, 0, 3, 3, 1, 2, 3, 2, 3, 1, 3, 1, 3, 0, 1, 0, 0, 2, 1, 1,\n",
       "       2, 2, 0, 3, 2, 3, 1, 1, 0, 0, 3, 3, 3, 3, 3, 3, 3, 1, 1, 0, 2, 1,\n",
       "       0, 2, 0, 2, 0, 3, 0, 3, 2, 0, 0, 0, 2, 0, 0, 1, 3, 2, 2, 1, 3, 0,\n",
       "       3, 0, 1, 0, 3, 2, 1, 3, 2, 2, 0, 3, 2, 2, 3, 0, 2, 0, 1, 2, 1, 2,\n",
       "       2, 1, 0, 3, 2, 1, 0, 3, 2, 0, 1, 2, 3, 3, 1, 3, 1, 3, 0, 2, 0, 1,\n",
       "       1, 1, 0, 0, 0, 3, 0, 2, 0, 0, 1, 3, 1, 1, 2, 3, 1, 3, 2, 2, 2, 0,\n",
       "       3, 1, 0, 3, 1, 1, 1, 3, 1, 0, 3, 1, 0, 3, 3, 1, 3, 0, 2, 1, 2, 2,\n",
       "       2, 2, 3, 1, 2, 3, 0, 3, 2, 0, 2, 2, 1, 3, 3, 3, 1, 0, 1, 2, 2, 3,\n",
       "       2, 2, 0, 0, 3, 3, 0, 1, 0, 3, 2, 0, 2, 1, 1, 1, 2, 1, 1, 3, 2, 3,\n",
       "       3, 2, 0, 1, 2, 0, 0, 2, 1, 0, 0, 1, 2, 3, 0, 0, 0, 1, 3, 0, 0, 1,\n",
       "       2, 2, 1, 2, 3, 0, 0, 3, 2, 3, 1, 1, 0, 2, 1, 1, 0, 1, 1, 1, 3, 2,\n",
       "       2, 1, 2, 0, 3, 1, 3, 1, 0, 1, 0, 1, 2, 3, 0, 0, 0, 3, 2, 0, 2, 1,\n",
       "       2, 2, 1, 0, 2, 1, 2, 2, 2, 0, 1, 2, 3, 0, 0, 1, 0, 3, 1, 2, 3, 0,\n",
       "       0, 0, 1, 0, 2, 0, 1, 3, 2, 2, 3, 0, 2, 2, 1, 1, 2, 0, 3, 3, 0, 3,\n",
       "       3, 1, 0, 3, 3, 1, 3, 2, 2, 2, 3, 3, 2, 2, 3, 0, 1, 0, 3, 0, 3, 1,\n",
       "       1, 3, 1, 0, 3, 0, 1, 1, 3, 3, 2, 3, 2, 2, 3, 3, 1, 0, 2, 2, 3, 3,\n",
       "       1, 3, 0, 1, 2, 2, 0, 2, 0, 0, 2, 2, 3, 0, 0, 1, 3, 3, 2, 1, 0, 2,\n",
       "       0, 0, 0, 1, 0, 2, 0, 0, 3, 1, 3, 3, 2, 0, 1, 3, 3, 0, 2, 1, 0, 3,\n",
       "       0, 3, 1, 2, 0, 3, 1, 1, 3, 3, 3, 2, 3, 1, 1, 1, 0, 2, 3, 2, 1, 0,\n",
       "       2, 0, 0, 1, 0, 1, 3, 1, 1, 2, 1, 0, 3, 1, 1, 3, 3, 1, 1, 2, 2, 2,\n",
       "       0, 1, 0, 0, 2, 1, 1, 3, 0, 2, 0, 0, 1, 1, 2, 3, 0, 2, 0, 2, 2, 2,\n",
       "       0, 0, 1, 2, 2, 3, 1, 0, 2, 3, 2, 0, 0, 3, 1, 2, 1, 1, 2, 1, 2, 3,\n",
       "       3, 2, 3, 0, 0, 2, 3, 1, 0, 2, 1, 1, 2, 2, 0, 3, 2, 1, 3, 2, 2, 3,\n",
       "       1, 1, 3, 0, 2, 2, 0, 1, 1, 1, 0, 3, 1, 0, 3, 3, 2, 0, 1, 0, 1, 2,\n",
       "       1, 1, 2, 3, 1, 0, 0, 2, 3, 1, 0, 0, 0, 3, 3, 3, 1, 2, 2, 1, 2, 2,\n",
       "       2, 3, 2, 0, 0, 0, 0, 3, 2, 3, 2, 2, 2, 2, 3, 1, 3, 2, 2, 3, 0, 0,\n",
       "       3, 3, 1, 3, 2, 0, 1, 2, 2, 0, 3, 3, 0, 1, 1, 1, 1, 2, 1, 0, 2, 1,\n",
       "       1, 3, 2, 1, 1, 3, 3, 1, 2, 1])"
      ]
     },
     "execution_count": 14,
     "metadata": {},
     "output_type": "execute_result"
    }
   ],
   "source": [
    "y\n"
   ]
  },
  {
   "cell_type": "code",
   "execution_count": 15,
   "metadata": {},
   "outputs": [],
   "source": [
    "class LogisticRegression:\n",
    "    def __init__(self, max_iter=200, lr=0.0001):\n",
    "        self.max_iter = max_iter\n",
    "        self.lr = lr\n",
    "\n",
    "    def softmask(self, Z):\n",
    "        return np.array([np.exp(z) / np.sum(np.exp(z)) for z in Z])\n",
    "\n",
    "    def loss_function(self, y_true, y_pred):\n",
    "        return np.sum(np.square(y_true - y_pred)) / (2 * y_true.size)\n",
    "\n",
    "    def add_intercept(self, X):\n",
    "        intercept = np.ones(shape=(X.shape[0], 1))\n",
    "        return np.concatenate((intercept, X), axis=1)\n",
    "\n",
    "    def fit(self, X, y):\n",
    "        y_encoded = np.zeros((y.size, y.max() + 1), dtype=int)\n",
    "        y_encoded[np.arange(y.size), y] = 1\n",
    "        y = y_encoded\n",
    "        X = self.add_intercept(X)\n",
    "        self.theta = np.random.rand(X.shape[1], y.shape[1])\n",
    "\n",
    "        for iter in range(self.max_iter):\n",
    "            z = np.dot(X, self.theta)\n",
    "            h = self.softmask(z)\n",
    "            self.theta -= self.lr * np.dot(X.T, (h - y)) / y.size\n",
    "            self.loss = self.loss_function(y, h)\n",
    "\n",
    "    def predict_prob(self, X):\n",
    "        X = self.add_intercept(X)\n",
    "        return self.softmask(np.dot(X, self.theta))\n",
    "\n",
    "    def predict(self, X):\n",
    "        pred_prob = self.predict_prob(X)\n",
    "        pred_argmax = np.argmax(pred_prob, axis=1)\n",
    "        return pred_argmax\n",
    "\n",
    "    def confusion_matrix_score(self, y_true, y_pred):\n",
    "        return confusion_matrix(y_true=y_true, y_pred=y_pred)\n",
    "\n",
    "    def classification_reports(self, y_true, y_pred):\n",
    "        return classification_report(y_true=y_true, y_pred=y_pred)\n"
   ]
  },
  {
   "cell_type": "code",
   "execution_count": 16,
   "metadata": {},
   "outputs": [],
   "source": [
    "model = LogisticRegression(max_iter=1000, lr=0.000001)\n",
    "model.fit(X, y)\n"
   ]
  },
  {
   "cell_type": "code",
   "execution_count": 17,
   "metadata": {},
   "outputs": [
    {
     "data": {
      "text/plain": [
       "array([[172,  69,  15,   0],\n",
       "       [162,  66,  14,   0],\n",
       "       [182,  67,   8,   0],\n",
       "       [167,  66,  12,   0]], dtype=int64)"
      ]
     },
     "execution_count": 17,
     "metadata": {},
     "output_type": "execute_result"
    }
   ],
   "source": [
    "y_pred = model.predict(X)\n",
    "confusion = model.confusion_matrix_score(y, y_pred)\n",
    "confusion\n"
   ]
  },
  {
   "cell_type": "code",
   "execution_count": 18,
   "metadata": {},
   "outputs": [
    {
     "data": {
      "text/plain": [
       "array([0, 1, 0, 0, 2, 1, 0, 0, 0, 0, 0, 2, 1, 1, 0, 1, 0, 0, 0, 1, 1, 2,\n",
       "       0, 2, 2, 1, 1, 0, 1, 0, 2, 1, 0, 0, 0, 1, 1, 0, 2, 1, 0, 1, 0, 0,\n",
       "       0, 0, 0, 0, 1, 0, 0, 1, 0, 0, 0, 0, 0, 0, 0, 1, 1, 0, 1, 1, 0, 1,\n",
       "       1, 0, 0, 0, 0, 0, 1, 1, 0, 0, 1, 1, 1, 0, 1, 0, 0, 1, 0, 0, 0, 0,\n",
       "       0, 2, 0, 0, 0, 0, 1, 0, 0, 0, 0, 0, 0, 0, 0, 0, 0, 1, 0, 0, 2, 1,\n",
       "       1, 0, 1, 0, 0, 0, 0, 0, 0, 2, 0, 1, 0, 1, 0, 0, 0, 0, 1, 0, 0, 0,\n",
       "       0, 0, 0, 0, 2, 0, 1, 0, 0, 0, 0, 0, 2, 0, 1, 0, 0, 1, 0, 0, 0, 0,\n",
       "       0, 0, 0, 1, 1, 1, 2, 0, 0, 0, 0, 0, 1, 0, 1, 0, 0, 0, 1, 1, 1, 1,\n",
       "       0, 1, 0, 0, 0, 0, 1, 1, 1, 0, 0, 0, 1, 0, 0, 0, 1, 0, 0, 0, 0, 0,\n",
       "       0, 0, 0, 1, 0, 0, 0, 1, 0, 1, 2, 0, 2, 0, 1, 0, 0, 0, 0, 0, 0, 0,\n",
       "       1, 0, 1, 0, 0, 0, 0, 0, 0, 0, 1, 0, 0, 0, 1, 0, 0, 0, 0, 0, 2, 0,\n",
       "       0, 0, 0, 0, 1, 1, 1, 0, 0, 0, 0, 0, 0, 0, 0, 0, 0, 1, 0, 1, 0, 0,\n",
       "       0, 0, 1, 0, 0, 0, 1, 0, 1, 0, 0, 0, 1, 0, 0, 0, 0, 0, 1, 1, 0, 0,\n",
       "       0, 0, 0, 0, 0, 0, 1, 0, 0, 0, 1, 2, 0, 1, 0, 0, 0, 0, 0, 0, 0, 2,\n",
       "       0, 0, 1, 0, 1, 0, 2, 1, 0, 1, 1, 1, 0, 0, 1, 0, 1, 2, 0, 0, 0, 1,\n",
       "       1, 0, 1, 0, 2, 1, 0, 0, 0, 0, 1, 2, 1, 0, 0, 0, 1, 0, 2, 0, 1, 0,\n",
       "       0, 0, 1, 0, 0, 0, 1, 0, 0, 1, 0, 0, 0, 0, 0, 1, 0, 0, 0, 0, 1, 0,\n",
       "       0, 0, 0, 0, 0, 0, 0, 0, 0, 2, 1, 1, 1, 0, 0, 1, 0, 0, 0, 0, 1, 0,\n",
       "       0, 0, 0, 0, 0, 1, 1, 0, 0, 0, 0, 0, 0, 0, 1, 0, 0, 0, 0, 2, 0, 0,\n",
       "       1, 1, 2, 1, 1, 0, 2, 0, 0, 0, 0, 1, 0, 1, 0, 0, 1, 0, 0, 2, 0, 1,\n",
       "       0, 0, 0, 0, 0, 2, 0, 1, 0, 0, 0, 1, 1, 1, 0, 1, 0, 0, 0, 0, 0, 0,\n",
       "       0, 1, 0, 1, 0, 1, 0, 0, 1, 0, 0, 0, 0, 0, 0, 0, 1, 0, 0, 0, 0, 0,\n",
       "       0, 0, 0, 0, 0, 1, 1, 2, 0, 0, 0, 0, 0, 1, 0, 0, 0, 2, 1, 0, 2, 0,\n",
       "       1, 0, 0, 0, 0, 0, 1, 0, 0, 0, 1, 0, 0, 1, 0, 0, 0, 1, 1, 0, 2, 0,\n",
       "       0, 0, 1, 0, 0, 0, 0, 0, 0, 0, 0, 0, 0, 0, 1, 0, 0, 0, 1, 0, 0, 0,\n",
       "       1, 1, 0, 0, 0, 1, 0, 0, 1, 1, 0, 0, 1, 0, 0, 2, 1, 0, 0, 0, 0, 0,\n",
       "       0, 0, 0, 1, 1, 1, 0, 1, 1, 0, 1, 0, 0, 2, 1, 1, 0, 0, 0, 1, 0, 0,\n",
       "       1, 0, 0, 0, 0, 0, 0, 0, 2, 0, 0, 1, 0, 1, 1, 1, 0, 0, 0, 1, 0, 1,\n",
       "       0, 0, 1, 0, 0, 0, 1, 0, 1, 0, 1, 0, 0, 0, 0, 0, 0, 0, 1, 1, 0, 1,\n",
       "       0, 0, 0, 0, 0, 1, 1, 0, 0, 0, 1, 0, 1, 0, 0, 0, 0, 0, 1, 0, 1, 0,\n",
       "       0, 2, 0, 0, 0, 0, 0, 1, 1, 1, 0, 1, 0, 0, 0, 0, 0, 0, 0, 0, 0, 0,\n",
       "       0, 0, 1, 0, 0, 0, 0, 0, 0, 0, 0, 0, 1, 1, 0, 0, 1, 1, 0, 1, 1, 0,\n",
       "       0, 1, 1, 0, 0, 0, 0, 1, 0, 0, 0, 1, 0, 0, 0, 0, 0, 1, 0, 1, 0, 0,\n",
       "       0, 0, 0, 0, 0, 0, 0, 0, 1, 0, 0, 0, 1, 0, 0, 1, 1, 0, 0, 0, 0, 0,\n",
       "       1, 0, 0, 0, 0, 0, 0, 0, 0, 0, 0, 0, 1, 1, 0, 0, 0, 1, 0, 0, 1, 0,\n",
       "       1, 0, 1, 1, 1, 0, 1, 1, 0, 0, 1, 0, 1, 0, 0, 0, 0, 2, 0, 0, 1, 0,\n",
       "       0, 0, 0, 1, 1, 0, 0, 0, 1, 0, 0, 0, 0, 0, 1, 0, 2, 0, 0, 0, 1, 0,\n",
       "       0, 0, 2, 0, 2, 0, 0, 0, 0, 0, 0, 1, 0, 1, 2, 0, 0, 0, 0, 0, 0, 0,\n",
       "       0, 1, 0, 0, 0, 0, 0, 2, 0, 1, 0, 0, 1, 0, 1, 0, 1, 0, 1, 0, 0, 0,\n",
       "       1, 0, 0, 0, 2, 0, 0, 1, 1, 1, 1, 0, 1, 0, 2, 0, 0, 1, 1, 0, 1, 1,\n",
       "       0, 0, 1, 1, 0, 1, 0, 0, 0, 1, 1, 0, 0, 0, 0, 0, 0, 0, 0, 0, 1, 1,\n",
       "       0, 0, 1, 1, 0, 0, 1, 0, 0, 1, 0, 1, 0, 1, 0, 0, 0, 0, 0, 0, 1, 1,\n",
       "       0, 1, 0, 0, 0, 1, 0, 0, 0, 0, 0, 1, 0, 0, 0, 1, 1, 0, 1, 0, 1, 0,\n",
       "       1, 0, 1, 0, 0, 0, 1, 0, 1, 1, 0, 1, 0, 1, 0, 1, 2, 0, 0, 0, 0, 0,\n",
       "       0, 1, 0, 2, 1, 0, 0, 0, 0, 0, 0, 1, 0, 0, 0, 0, 0, 2, 0, 1, 0, 2,\n",
       "       0, 1, 0, 0, 1, 0, 0, 0, 0, 0], dtype=int64)"
      ]
     },
     "execution_count": 18,
     "metadata": {},
     "output_type": "execute_result"
    }
   ],
   "source": [
    "y_pred\n"
   ]
  },
  {
   "cell_type": "code",
   "execution_count": 19,
   "metadata": {},
   "outputs": [
    {
     "data": {
      "text/plain": [
       "1.4395"
      ]
     },
     "execution_count": 19,
     "metadata": {},
     "output_type": "execute_result"
    }
   ],
   "source": [
    "model.loss_function(y, y_pred)\n"
   ]
  },
  {
   "cell_type": "code",
   "execution_count": 20,
   "metadata": {},
   "outputs": [
    {
     "name": "stdout",
     "output_type": "stream",
     "text": [
      "              precision    recall  f1-score   support\n",
      "\n",
      "           0       0.25      0.67      0.37       256\n",
      "           1       0.25      0.27      0.26       242\n",
      "           2       0.16      0.03      0.05       257\n",
      "           3       0.00      0.00      0.00       245\n",
      "\n",
      "    accuracy                           0.25      1000\n",
      "   macro avg       0.17      0.24      0.17      1000\n",
      "weighted avg       0.17      0.25      0.17      1000\n",
      "\n"
     ]
    },
    {
     "name": "stderr",
     "output_type": "stream",
     "text": [
      "e:\\TAI\\intern lab\\week 2\\week3_DL\\lib\\site-packages\\sklearn\\metrics\\_classification.py:1344: UndefinedMetricWarning: Precision and F-score are ill-defined and being set to 0.0 in labels with no predicted samples. Use `zero_division` parameter to control this behavior.\n",
      "  _warn_prf(average, modifier, msg_start, len(result))\n",
      "e:\\TAI\\intern lab\\week 2\\week3_DL\\lib\\site-packages\\sklearn\\metrics\\_classification.py:1344: UndefinedMetricWarning: Precision and F-score are ill-defined and being set to 0.0 in labels with no predicted samples. Use `zero_division` parameter to control this behavior.\n",
      "  _warn_prf(average, modifier, msg_start, len(result))\n",
      "e:\\TAI\\intern lab\\week 2\\week3_DL\\lib\\site-packages\\sklearn\\metrics\\_classification.py:1344: UndefinedMetricWarning: Precision and F-score are ill-defined and being set to 0.0 in labels with no predicted samples. Use `zero_division` parameter to control this behavior.\n",
      "  _warn_prf(average, modifier, msg_start, len(result))\n"
     ]
    }
   ],
   "source": [
    "report = model.classification_reports(y, y_pred)\n",
    "print(report)\n"
   ]
  }
 ],
 "metadata": {
  "kernelspec": {
   "display_name": "week3_DL",
   "language": "python",
   "name": "python3"
  },
  "language_info": {
   "codemirror_mode": {
    "name": "ipython",
    "version": 3
   },
   "file_extension": ".py",
   "mimetype": "text/x-python",
   "name": "python",
   "nbconvert_exporter": "python",
   "pygments_lexer": "ipython3",
   "version": "3.9.13"
  },
  "orig_nbformat": 4,
  "vscode": {
   "interpreter": {
    "hash": "ef4faf2f138679c832291ba123e5a07f8436d9a0eedaf47a45ef3476333a6981"
   }
  }
 },
 "nbformat": 4,
 "nbformat_minor": 2
}
